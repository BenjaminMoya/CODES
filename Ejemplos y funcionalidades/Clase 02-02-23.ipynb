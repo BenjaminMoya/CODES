{
 "cells": [
  {
   "cell_type": "code",
   "execution_count": 1,
   "metadata": {},
   "outputs": [],
   "source": [
    "import matplotlib.pyplot as plt\n",
    "import sympy as sp\n",
    "import numpy as np"
   ]
  },
  {
   "cell_type": "markdown",
   "metadata": {},
   "source": [
    "# Sympy\n",
    "\n",
    "Es una librería de Python para matemática simbólica. Su objetivo trabajar un sistema de álgebra computacional conocido como CAS, con todas las funciones, manteniendo el código lo más simple posible para que sea fácilmente comprensible.\n",
    "\n",
    "Para ver la documentación completa ver \n",
    "https://www.sympy.org/ "
   ]
  },
  {
   "cell_type": "markdown",
   "metadata": {},
   "source": [
    "## Ejemplo 1:\n",
    "\n",
    "Declarar $\\sqrt[3]{2}$ usando librería numpy y sympy. Observar diferencias."
   ]
  },
  {
   "cell_type": "code",
   "execution_count": 2,
   "metadata": {},
   "outputs": [
    {
     "data": {
      "text/plain": [
       "1.259921049894873"
      ]
     },
     "execution_count": 2,
     "metadata": {},
     "output_type": "execute_result"
    }
   ],
   "source": [
    "np.cbrt(2)"
   ]
  },
  {
   "cell_type": "code",
   "execution_count": 3,
   "metadata": {},
   "outputs": [
    {
     "data": {
      "text/latex": [
       "$\\displaystyle \\sqrt[3]{2}$"
      ],
      "text/plain": [
       "2**(1/3)"
      ]
     },
     "execution_count": 3,
     "metadata": {},
     "output_type": "execute_result"
    }
   ],
   "source": [
    "sp.cbrt(2)"
   ]
  },
  {
   "cell_type": "markdown",
   "metadata": {},
   "source": [
    "## Declaración de variables\n",
    "\n",
    "* Forma 1:"
   ]
  },
  {
   "cell_type": "code",
   "execution_count": 22,
   "metadata": {},
   "outputs": [],
   "source": [
    "x=sp.symbols(\"x\")"
   ]
  },
  {
   "cell_type": "code",
   "execution_count": 23,
   "metadata": {},
   "outputs": [
    {
     "data": {
      "text/latex": [
       "$\\displaystyle x$"
      ],
      "text/plain": [
       "x"
      ]
     },
     "execution_count": 23,
     "metadata": {},
     "output_type": "execute_result"
    }
   ],
   "source": [
    "x"
   ]
  },
  {
   "cell_type": "markdown",
   "metadata": {},
   "source": [
    "* Forma 2:\n"
   ]
  },
  {
   "cell_type": "code",
   "execution_count": 14,
   "metadata": {},
   "outputs": [],
   "source": [
    "y, z, c, k=sp.symbols(\"y z c omega\")"
   ]
  },
  {
   "cell_type": "code",
   "execution_count": 12,
   "metadata": {},
   "outputs": [
    {
     "data": {
      "text/latex": [
       "$\\displaystyle \\omega$"
      ],
      "text/plain": [
       "omega"
      ]
     },
     "execution_count": 12,
     "metadata": {},
     "output_type": "execute_result"
    }
   ],
   "source": [
    "k"
   ]
  },
  {
   "cell_type": "markdown",
   "metadata": {},
   "source": [
    "Algunos atributos adicionales\n",
    "\n",
    "* integer=True\n",
    "* real=True\n",
    "* positive=True\n"
   ]
  },
  {
   "cell_type": "markdown",
   "metadata": {},
   "source": [
    "## Ejemplo 3: Resolución de ecuaciones algebraicas\n",
    "\n",
    "La EDO \n",
    "\n",
    "$$(y^5 - 6 y^4 - 5 y^3 - 10 y^2 - 36 y + 56)dx+(y^2+1)dy = 0$$\n",
    "\n",
    "es autónoma. Encontrar los puntos estacionarios de la ecuación."
   ]
  },
  {
   "cell_type": "code",
   "execution_count": 19,
   "metadata": {},
   "outputs": [
    {
     "data": {
      "text/latex": [
       "$\\displaystyle \\left\\{-2, 1, 7, - 2 i, 2 i\\right\\}$"
      ],
      "text/plain": [
       "{-2, 1, 7, -2*I, 2*I}"
      ]
     },
     "execution_count": 19,
     "metadata": {},
     "output_type": "execute_result"
    }
   ],
   "source": [
    "sp.solveset(y**5-6*y**4-5*y**3-10*y**2-36*y+56,y)"
   ]
  },
  {
   "cell_type": "markdown",
   "metadata": {},
   "source": [
    "## Ejemplo 4:\n",
    "\n",
    "Encuentre las soluciones estacionarias de la EDO\n",
    "\n",
    "$$\\sin y \\sqrt{y-1} dx - (x^2-1)dy = 0 $$\n"
   ]
  },
  {
   "cell_type": "code",
   "execution_count": 18,
   "metadata": {},
   "outputs": [
    {
     "data": {
      "text/latex": [
       "$\\displaystyle \\left\\{1\\right\\} \\cup \\left\\{2 n \\pi\\; \\middle|\\; n \\in \\mathbb{Z}\\right\\} \\cup \\left\\{2 n \\pi + \\pi\\; \\middle|\\; n \\in \\mathbb{Z}\\right\\}$"
      ],
      "text/plain": [
       "Union({1}, ImageSet(Lambda(_n, 2*_n*pi + pi), Integers), ImageSet(Lambda(_n, 2*_n*pi), Integers))"
      ]
     },
     "execution_count": 18,
     "metadata": {},
     "output_type": "execute_result"
    }
   ],
   "source": [
    "sp.solveset(sp.sin(y)*sp.sqrt(y-1),y)"
   ]
  },
  {
   "cell_type": "markdown",
   "metadata": {},
   "source": [
    "## Ejemplo 5: Declaración/Resolución/Comprobación de EDO\n",
    "\n",
    "Declarar y resolver la ecuación diferencial de Bernoulli usando comando `dsolve`\n",
    "\n",
    "$$\\dfrac{dy}{dx} - y = 2e^x y^2 $$"
   ]
  },
  {
   "cell_type": "code",
   "execution_count": 26,
   "metadata": {},
   "outputs": [
    {
     "data": {
      "text/latex": [
       "$\\displaystyle - y{\\left(x \\right)} + \\frac{d}{d x} y{\\left(x \\right)} = 2 y^{2}{\\left(x \\right)} e^{x}$"
      ],
      "text/plain": [
       "Eq(-y(x) + Derivative(y(x), x), 2*y(x)**2*exp(x))"
      ]
     },
     "execution_count": 26,
     "metadata": {},
     "output_type": "execute_result"
    }
   ],
   "source": [
    "y=sp.Function(\"y\")\n",
    "\n",
    "EDO=sp.Eq(sp.diff(y(x),x)-y(x), 2*sp.exp(x)*y(x)**2)\n",
    "EDO"
   ]
  },
  {
   "cell_type": "code",
   "execution_count": 27,
   "metadata": {},
   "outputs": [
    {
     "data": {
      "text/latex": [
       "$\\displaystyle y{\\left(x \\right)} = \\frac{e^{x}}{C_{1} - e^{2 x}}$"
      ],
      "text/plain": [
       "Eq(y(x), exp(x)/(C1 - exp(2*x)))"
      ]
     },
     "execution_count": 27,
     "metadata": {},
     "output_type": "execute_result"
    }
   ],
   "source": [
    "sp.dsolve(EDO,y(x))"
   ]
  },
  {
   "cell_type": "markdown",
   "metadata": {},
   "source": [
    "## Ejemplo 6: PVI\n",
    "\n",
    "Resolver el PVI\n",
    "$$\\dfrac{dy}{dx} - y = 2e^x y^2 \\quad ; \\quad y(1)=\\pi$$\n"
   ]
  },
  {
   "cell_type": "code",
   "execution_count": 28,
   "metadata": {},
   "outputs": [
    {
     "data": {
      "text/latex": [
       "$\\displaystyle y{\\left(x \\right)} = \\frac{e^{x}}{- e^{2 x} + \\frac{1 + \\pi}{\\pi}}$"
      ],
      "text/plain": [
       "Eq(y(x), exp(x)/(-exp(2*x) + (1 + pi)/pi))"
      ]
     },
     "execution_count": 28,
     "metadata": {},
     "output_type": "execute_result"
    }
   ],
   "source": [
    "sp.dsolve(EDO,y(x), ics={y(0):sp.pi})"
   ]
  },
  {
   "cell_type": "markdown",
   "metadata": {},
   "source": [
    "## Ejemplo 7: Calculo de derivadas\n",
    "\n",
    "Verificar si la EDO es exacta \n",
    "\n",
    "$$\\left[ \\dfrac{\\ln(\\ln(y))}{x}+\\dfrac{2}{3}xy^3+6x \\right] dx+ \\left[\\dfrac{\\ln(x)}{y\\ln(y)}+x^2y^2+4e^{-2y} \\right]dy=0$$\n"
   ]
  },
  {
   "cell_type": "code",
   "execution_count": 38,
   "metadata": {},
   "outputs": [],
   "source": [
    "x,y=sp.symbols(\"x y\")"
   ]
  },
  {
   "cell_type": "code",
   "execution_count": 41,
   "metadata": {},
   "outputs": [
    {
     "data": {
      "text/latex": [
       "$\\displaystyle \\frac{2 x y^{3}}{3} + 6 x + \\frac{\\log{\\left(\\log{\\left(y \\right)} \\right)}}{x}$"
      ],
      "text/plain": [
       "2*x*y**3/3 + 6*x + log(log(y))/x"
      ]
     },
     "execution_count": 41,
     "metadata": {},
     "output_type": "execute_result"
    }
   ],
   "source": [
    "M=sp.log(sp.log(y))/x+sp.Rational(2,3)*x*y**3+6*x\n",
    "M"
   ]
  },
  {
   "cell_type": "code",
   "execution_count": 43,
   "metadata": {},
   "outputs": [
    {
     "data": {
      "text/latex": [
       "$\\displaystyle x^{2} y^{2} + 4 e^{- 2 y} + \\frac{\\log{\\left(x \\right)}}{y \\log{\\left(y \\right)}}$"
      ],
      "text/plain": [
       "x**2*y**2 + 4*exp(-2*y) + log(x)/(y*log(y))"
      ]
     },
     "execution_count": 43,
     "metadata": {},
     "output_type": "execute_result"
    }
   ],
   "source": [
    "N=sp.log(x)/(y*sp.log(y))+x**2*y**2+4*sp.exp(-2*y)\n",
    "N"
   ]
  },
  {
   "cell_type": "code",
   "execution_count": 44,
   "metadata": {},
   "outputs": [
    {
     "data": {
      "text/latex": [
       "$\\displaystyle 2 x y^{2} + \\frac{1}{x y \\log{\\left(y \\right)}}$"
      ],
      "text/plain": [
       "2*x*y**2 + 1/(x*y*log(y))"
      ]
     },
     "execution_count": 44,
     "metadata": {},
     "output_type": "execute_result"
    }
   ],
   "source": [
    "sp.diff(M,y)"
   ]
  },
  {
   "cell_type": "code",
   "execution_count": 45,
   "metadata": {},
   "outputs": [
    {
     "data": {
      "text/latex": [
       "$\\displaystyle 2 x y^{2} + \\frac{1}{x y \\log{\\left(y \\right)}}$"
      ],
      "text/plain": [
       "2*x*y**2 + 1/(x*y*log(y))"
      ]
     },
     "execution_count": 45,
     "metadata": {},
     "output_type": "execute_result"
    }
   ],
   "source": [
    "sp.diff(N,x)"
   ]
  },
  {
   "cell_type": "code",
   "execution_count": 48,
   "metadata": {},
   "outputs": [
    {
     "data": {
      "text/plain": [
       "True"
      ]
     },
     "execution_count": 48,
     "metadata": {},
     "output_type": "execute_result"
    }
   ],
   "source": [
    "sp.diff(M,y)==sp.diff(N,x)"
   ]
  },
  {
   "cell_type": "markdown",
   "metadata": {},
   "source": [
    "## Ejemplo 8: Calculo de primitivas\n",
    "\n",
    "Resolver la EDO del ejemplo 7."
   ]
  },
  {
   "cell_type": "code",
   "execution_count": 51,
   "metadata": {},
   "outputs": [],
   "source": [
    "c=sp.Function(\"c\")"
   ]
  },
  {
   "cell_type": "code",
   "execution_count": 49,
   "metadata": {},
   "outputs": [
    {
     "data": {
      "text/latex": [
       "$\\displaystyle \\frac{x^{2} \\left(y^{3} + 9\\right)}{3} + \\log{\\left(x \\right)} \\log{\\left(\\log{\\left(y \\right)} \\right)}$"
      ],
      "text/plain": [
       "x**2*(y**3 + 9)/3 + log(x)*log(log(y))"
      ]
     },
     "execution_count": 49,
     "metadata": {},
     "output_type": "execute_result"
    }
   ],
   "source": [
    "sp.integrate(M,x)"
   ]
  },
  {
   "cell_type": "code",
   "execution_count": 55,
   "metadata": {},
   "outputs": [
    {
     "data": {
      "text/latex": [
       "$\\displaystyle \\frac{x^{2} \\left(y^{3} + 9\\right)}{3} + c{\\left(y \\right)} + \\log{\\left(x \\right)} \\log{\\left(\\log{\\left(y \\right)} \\right)}$"
      ],
      "text/plain": [
       "x**2*(y**3 + 9)/3 + c(y) + log(x)*log(log(y))"
      ]
     },
     "execution_count": 55,
     "metadata": {},
     "output_type": "execute_result"
    }
   ],
   "source": [
    "f=sp.integrate(M,x)+c(y)\n",
    "f"
   ]
  },
  {
   "cell_type": "code",
   "execution_count": 57,
   "metadata": {},
   "outputs": [
    {
     "data": {
      "text/latex": [
       "$\\displaystyle x^{2} y^{2} + \\frac{d}{d y} c{\\left(y \\right)} + \\frac{\\log{\\left(x \\right)}}{y \\log{\\left(y \\right)}}$"
      ],
      "text/plain": [
       "x**2*y**2 + Derivative(c(y), y) + log(x)/(y*log(y))"
      ]
     },
     "execution_count": 57,
     "metadata": {},
     "output_type": "execute_result"
    }
   ],
   "source": [
    "G=sp.diff(f,y)\n",
    "G"
   ]
  },
  {
   "cell_type": "code",
   "execution_count": 58,
   "metadata": {},
   "outputs": [
    {
     "data": {
      "text/latex": [
       "$\\displaystyle \\frac{d}{d y} c{\\left(y \\right)} - 4 e^{- 2 y}$"
      ],
      "text/plain": [
       "Derivative(c(y), y) - 4*exp(-2*y)"
      ]
     },
     "execution_count": 58,
     "metadata": {},
     "output_type": "execute_result"
    }
   ],
   "source": [
    "G-N"
   ]
  },
  {
   "cell_type": "code",
   "execution_count": 62,
   "metadata": {},
   "outputs": [
    {
     "data": {
      "text/latex": [
       "$\\displaystyle - 2 e^{- 2 y}$"
      ],
      "text/plain": [
       "-2*exp(-2*y)"
      ]
     },
     "execution_count": 62,
     "metadata": {},
     "output_type": "execute_result"
    }
   ],
   "source": [
    "C=sp.integrate(4*sp.exp(-2*y),y)\n",
    "C"
   ]
  },
  {
   "cell_type": "code",
   "execution_count": 63,
   "metadata": {},
   "outputs": [
    {
     "data": {
      "text/latex": [
       "$\\displaystyle \\frac{x^{2} \\left(y^{3} + 9\\right)}{3} + \\log{\\left(x \\right)} \\log{\\left(\\log{\\left(y \\right)} \\right)} - 2 e^{- 2 y}$"
      ],
      "text/plain": [
       "x**2*(y**3 + 9)/3 + log(x)*log(log(y)) - 2*exp(-2*y)"
      ]
     },
     "execution_count": 63,
     "metadata": {},
     "output_type": "execute_result"
    }
   ],
   "source": [
    "C+sp.integrate(M,x)"
   ]
  },
  {
   "cell_type": "code",
   "execution_count": null,
   "metadata": {},
   "outputs": [],
   "source": []
  }
 ],
 "metadata": {
  "kernelspec": {
   "display_name": "Python 3 (ipykernel)",
   "language": "python",
   "name": "python3"
  },
  "language_info": {
   "codemirror_mode": {
    "name": "ipython",
    "version": 3
   },
   "file_extension": ".py",
   "mimetype": "text/x-python",
   "name": "python",
   "nbconvert_exporter": "python",
   "pygments_lexer": "ipython3",
   "version": "3.11.4"
  }
 },
 "nbformat": 4,
 "nbformat_minor": 4
}
